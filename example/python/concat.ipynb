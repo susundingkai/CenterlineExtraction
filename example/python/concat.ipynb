{
 "cells": [
  {
   "cell_type": "code",
   "execution_count": 61,
   "id": "3c10a529-ecd1-42f9-94e5-3477918f1b7b",
   "metadata": {},
   "outputs": [],
   "source": [
    "import json\n",
    "import numpy as np\n",
    "with open('./concat.json','r',encoding='utf8')as fp: #824 100\n",
    "    js = json.load(fp)"
   ]
  },
  {
   "cell_type": "code",
   "execution_count": 62,
   "id": "5c9861c0-55ce-4e89-a78b-1aefc3ac831a",
   "metadata": {},
   "outputs": [],
   "source": [
    "def findLineIndex(myjs,cnn_index):\n",
    "    line_index=[]\n",
    "    for index,feature in enumerate(myjs[\"features\"]):\n",
    "        if(feature[\"pop\"]>0):\n",
    "            continue\n",
    "        if(cnn_index in feature[\"start\"][\"xy\"]):\n",
    "            line_index.append(index)\n",
    "    return line_index"
   ]
  },
  {
   "cell_type": "code",
   "execution_count": 63,
   "id": "dca88b11-c831-41b3-9eb9-cc36d5576202",
   "metadata": {},
   "outputs": [],
   "source": [
    "from math import sqrt\n",
    "def calDis(point1,point2):\n",
    "    dis=sqrt((point1[0]-point2[0])**2+(point1[1]-point2[1])**2)\n",
    "    return dis\n",
    "def checkConn(line1,line2,th=5):\n",
    "    if(len(line1)==0 or len(line2)==0): return []\n",
    "    head1=line1[0]\n",
    "    bottom1=line1[-1]\n",
    "    head2=line2[0]\n",
    "    bottom2=line2[-1]\n",
    "    if(calDis(head1,head2)<th):\n",
    "        line1.reverse()\n",
    "        return line1+line2\n",
    "    if(calDis(head1,bottom2)<th):\n",
    "        line1.reverse()\n",
    "        line2.reverse()\n",
    "        return line1+line2\n",
    "    if(calDis(bottom1,head2)<th): \n",
    "        return line1+line2\n",
    "    if(calDis(bottom1,bottom2)<th): \n",
    "        line2.reverse()\n",
    "        return line1+line2\n",
    "    return []"
   ]
  },
  {
   "cell_type": "code",
   "execution_count": 64,
   "id": "e914697d-c752-4b9f-a2d6-3da47a1bbda2",
   "metadata": {},
   "outputs": [],
   "source": [
    "def connect(myjs,index):\n",
    "    new_cnn_list=[]\n",
    "    for cnn_index in myjs[\"features\"][index][\"start\"][\"connect\"]:\n",
    "        line_list=findLineIndex(myjs,cnn_index)\n",
    "        for line_index in line_list:\n",
    "            tmp=checkConn(myjs[\"features\"][index][\"geometry\"][\"coordinates\"],myjs[\"features\"][line_index][\"geometry\"][\"coordinates\"])\n",
    "            if(len(tmp)==0):\n",
    "                continue\n",
    "            myjs[\"features\"][index][\"geometry\"][\"coordinates\"]=tmp\n",
    "            myjs[\"features\"][index][\"start\"][\"xy\"]+=myjs[\"features\"][line_index][\"start\"][\"xy\"]\n",
    "            new_cnn_list=new_cnn_list+myjs[\"features\"][line_index][\"start\"][\"connect\"]\n",
    "            myjs[\"features\"][line_index][\"pop\"]=2\n",
    "    myjs[\"features\"][index][\"start\"][\"connect\"]=new_cnn_list\n",
    "    if(len(new_cnn_list)==0):\n",
    "        return 0\n",
    "    connect(myjs,index)"
   ]
  },
  {
   "cell_type": "code",
   "execution_count": 65,
   "id": "cd2af061-e518-42e4-9955-9707512c8c0a",
   "metadata": {
    "tags": []
   },
   "outputs": [],
   "source": [
    "exclude=[]\n",
    "new_js=js.copy()\n",
    "for index,feature in enumerate(new_js[\"features\"]):\n",
    "    if(feature[\"pop\"]>0):\n",
    "        continue\n",
    "    new_js[\"features\"][index][\"pop\"]=1\n",
    "    connect(new_js,index)"
   ]
  },
  {
   "cell_type": "code",
   "execution_count": 66,
   "id": "59e3aae2-b9b2-4d98-a851-7f7a044e1e1c",
   "metadata": {},
   "outputs": [],
   "source": [
    "index=0\n",
    "while(True):\n",
    "    if(new_js[\"features\"][index][\"pop\"]==2):\n",
    "        new_js[\"features\"].pop(index)\n",
    "    else:\n",
    "        index+=1\n",
    "    if(len(new_js[\"features\"])==index):\n",
    "        break"
   ]
  },
  {
   "cell_type": "code",
   "execution_count": 67,
   "id": "7d3cae23-5b24-46be-941c-cb068bbd5b14",
   "metadata": {},
   "outputs": [],
   "source": [
    "filename=\"connect.json\"\n",
    "with open(filename,'w') as file_obj:\n",
    "    json.dump(new_js,file_obj)"
   ]
  },
  {
   "cell_type": "code",
   "execution_count": null,
   "id": "cec7d87e-eba4-4bce-81cd-1939af1b62c2",
   "metadata": {},
   "outputs": [],
   "source": []
  }
 ],
 "metadata": {
  "kernelspec": {
   "display_name": "road",
   "language": "python",
   "name": "road"
  },
  "language_info": {
   "codemirror_mode": {
    "name": "ipython",
    "version": 3
   },
   "file_extension": ".py",
   "mimetype": "text/x-python",
   "name": "python",
   "nbconvert_exporter": "python",
   "pygments_lexer": "ipython3",
   "version": "3.8.12"
  }
 },
 "nbformat": 4,
 "nbformat_minor": 5
}
